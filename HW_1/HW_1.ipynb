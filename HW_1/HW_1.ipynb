{
  "nbformat": 4,
  "nbformat_minor": 0,
  "metadata": {
    "colab": {
      "name": "HW_1.ipynb",
      "provenance": [],
      "collapsed_sections": [],
      "authorship_tag": "ABX9TyPJKTeljPRrllg6YJ6LKJLw",
      "include_colab_link": true
    },
    "kernelspec": {
      "name": "python3",
      "display_name": "Python 3"
    }
  },
  "cells": [
    {
      "cell_type": "markdown",
      "metadata": {
        "id": "view-in-github",
        "colab_type": "text"
      },
      "source": [
        "<a href=\"https://colab.research.google.com/github/KolbeCer/A.I./blob/master/HW_1/HW_1.ipynb\" target=\"_parent\"><img src=\"https://colab.research.google.com/assets/colab-badge.svg\" alt=\"Open In Colab\"/></a>"
      ]
    },
    {
      "cell_type": "markdown",
      "metadata": {
        "id": "KGE2L51z5SXW",
        "colab_type": "text"
      },
      "source": [
        "###Description"
      ]
    },
    {
      "cell_type": "markdown",
      "metadata": {
        "id": "90FB78daWYFz",
        "colab_type": "text"
      },
      "source": [
        "The multiply matrices function takes input a list of numpy matrices and returns the product of the two. If any of the matrices are incompatible to be multiplied it returns a custom error that specifies which matrices were incompatible."
      ]
    },
    {
      "cell_type": "markdown",
      "metadata": {
        "id": "8tMAztU6Y-UY",
        "colab_type": "text"
      },
      "source": [
        "###Compatability"
      ]
    },
    {
      "cell_type": "markdown",
      "metadata": {
        "id": "vQJH1-5hZN8V",
        "colab_type": "text"
      },
      "source": [
        "In order for two matrices to be compatible to multiply the number of columns in the first matrix needs to be equal to the number of rows in the second matrix. for example:\n",
        "\n",
        "\\begin{pmatrix} \n",
        "  \\alpha     & \\beta\\\\ \n",
        "  \\gamma & \\delta \n",
        "\\end{pmatrix}\n",
        "\n",
        "could be mulitplied with\n",
        "\\begin{pmatrix} \n",
        "  A & B & C\\\\ \n",
        "  D & E & F\n",
        "\\end{pmatrix}\n",
        "but not with\n",
        "\\begin{pmatrix} \n",
        "  1 & 2\\\\ \n",
        "  3 & 4\\\\\n",
        "  5 & 6 \n",
        "\\end{pmatrix}"
      ]
    },
    {
      "cell_type": "markdown",
      "metadata": {
        "id": "afQNE9pJV5BK",
        "colab_type": "text"
      },
      "source": [
        "###Matrix Multiplication Code"
      ]
    },
    {
      "cell_type": "code",
      "metadata": {
        "id": "FGdbg5nAX4eM",
        "colab_type": "code",
        "colab": {}
      },
      "source": [
        "import numpy as np"
      ],
      "execution_count": 0,
      "outputs": []
    },
    {
      "cell_type": "code",
      "metadata": {
        "id": "2WrioLIcX8e4",
        "colab_type": "code",
        "colab": {}
      },
      "source": [
        "class custom_error(Exception):\n",
        "  pass"
      ],
      "execution_count": 0,
      "outputs": []
    },
    {
      "cell_type": "code",
      "metadata": {
        "id": "hy7SWAkkbjY-",
        "colab_type": "code",
        "colab": {}
      },
      "source": [
        "# takes a list of matrices and performs matrix multiplication on them\n",
        "def multiply_matrices(m_list):\n",
        "    i = 0\n",
        "    mf = m_list[i]\n",
        "\n",
        "    # loops list\n",
        "    while i < len(m_list) - 1:\n",
        "        # get value for the inner dimensions for each pair\n",
        "        t, y1 = m_list[i].shape\n",
        "        x2, t = m_list[i+1].shape\n",
        "        \n",
        "        try:\n",
        "        # check if inner dimensions match\n",
        "            if y1 != x2:\n",
        "            # error for when the inner dimensions don't match\n",
        "                raise custom_error\n",
        "\n",
        "            else:\n",
        "            # matrix multipy the two together\n",
        "                m1 = m_list[i+1]\n",
        "                mf = np.dot(mf, m1)\n",
        "\n",
        "        # prints out the custom error giving indeces starting at 1\n",
        "        except custom_error:\n",
        "            print(\"Matrices\", i+1,\"and\", i+2,\"are not able to be multiplied\")\n",
        "            return\n",
        "\n",
        "        i += 1\n",
        "\n",
        "    return mf"
      ],
      "execution_count": 0,
      "outputs": []
    },
    {
      "cell_type": "markdown",
      "metadata": {
        "id": "4eAxSsVRYIYA",
        "colab_type": "text"
      },
      "source": [
        "######Testing"
      ]
    },
    {
      "cell_type": "code",
      "metadata": {
        "id": "RZ-51tUUFgNI",
        "colab_type": "code",
        "colab": {
          "base_uri": "https://localhost:8080/",
          "height": 54
        },
        "outputId": "06eb6515-0f0c-4ab7-df05-01fcc073cec4"
      },
      "source": [
        "m3 = np.full((2, 4), 2)\n",
        "m4 = np.full((4, 3), 3)\n",
        "m5 = np.full((3, 2), 4)\n",
        "m6 = np.array(([[1,2,3],[3,4,8]]))\n",
        "m7 = np.array(([[2,6,4],[9,3,1],[11,15,39]]))\n",
        "\n",
        "mr1 = np.random.random((2,3))\n",
        "mr2 = np.random.random((3,7))\n",
        "mr3 = np.random.random((7,2))\n",
        "\n",
        "matrix_list = [m3, m4, m5, m6, m7]\n",
        "matrix_list1 = [mr1, mr2, mr3]\n",
        "\n",
        "print(multiply_matrices(matrix_list1))"
      ],
      "execution_count": 7,
      "outputs": [
        {
          "output_type": "stream",
          "text": [
            "[[3.42036213 3.92643606]\n",
            " [2.85744303 3.51304536]]\n"
          ],
          "name": "stdout"
        }
      ]
    }
  ]
}