{
  "nbformat": 4,
  "nbformat_minor": 0,
  "metadata": {
    "colab": {
      "name": "HW3.ipynb",
      "provenance": [],
      "collapsed_sections": [],
      "authorship_tag": "ABX9TyO61uY3xN2Fc5lPQwd6Xl8c",
      "include_colab_link": true
    },
    "kernelspec": {
      "name": "python3",
      "display_name": "Python 3"
    }
  },
  "cells": [
    {
      "cell_type": "markdown",
      "metadata": {
        "id": "view-in-github",
        "colab_type": "text"
      },
      "source": [
        "<a href=\"https://colab.research.google.com/github/KolbeCer/A.I./blob/master/HW_3/HW3.ipynb\" target=\"_parent\"><img src=\"https://colab.research.google.com/assets/colab-badge.svg\" alt=\"Open In Colab\"/></a>"
      ]
    },
    {
      "cell_type": "markdown",
      "metadata": {
        "id": "SjiBmipzaeis",
        "colab_type": "text"
      },
      "source": [
        "#HW3"
      ]
    },
    {
      "cell_type": "markdown",
      "metadata": {
        "id": "mnFsvSvDajyu",
        "colab_type": "text"
      },
      "source": [
        "##Problem 1"
      ]
    },
    {
      "cell_type": "code",
      "metadata": {
        "id": "T2VbU_LdjKbH",
        "colab_type": "code",
        "colab": {}
      },
      "source": [
        "# imports\n",
        "import random\n",
        "import numpy as np\n",
        "import matplotlib.pyplot as plt\n",
        "from random import *"
      ],
      "execution_count": 0,
      "outputs": []
    },
    {
      "cell_type": "code",
      "metadata": {
        "id": "QYHgu_B2amPQ",
        "colab_type": "code",
        "colab": {}
      },
      "source": [
        "# function to generate random data for logistic regression with two features\n",
        "def get_random_data(w, b, mu, sigma, m):\n",
        "\n",
        "  data_temp = []\n",
        "  labels_temp = []\n",
        "  i = 0\n",
        "\n",
        "  # 0 to m-1\n",
        "  while (i < m):\n",
        "    ran_c = random()\n",
        "    # c is 1 50% of the time and 0 the other 50%\n",
        "    if (ran_c > 0.5):\n",
        "      c = 1\n",
        "    else:\n",
        "      c = 0\n",
        "\n",
        "    # Get a uniform x \n",
        "    x_1 = np.random.uniform(low=0.0, high=1.0)\n",
        "    \n",
        "    # noise chosen based on normal distribution\n",
        "    n = np.random.normal(mu, sigma, 1)\n",
        "    x_2 = w * x_1 + b + (np.power(-1, c)) * n\n",
        "\n",
        "    # append to the data  x_1 and x_2\n",
        "    data_temp.append([x_1, x_2[0]])\n",
        "\n",
        "    # append c to labels\n",
        "    labels_temp.append([c])\n",
        "    i += 1\n",
        "\n",
        "  # Convert lists into np arrays of (m,2) and (m,1)\n",
        "  data = np.array(data_temp, ndmin=2)\n",
        "  labels = np.array(labels_temp, ndmin=1)\n",
        "\n",
        "  return(data, labels)"
      ],
      "execution_count": 0,
      "outputs": []
    },
    {
      "cell_type": "code",
      "metadata": {
        "id": "uepfgB2scMj5",
        "colab_type": "code",
        "colab": {}
      },
      "source": [
        "# display points in data seperated by their \n",
        "def display_random_data(data, labels, w, b):\n",
        "\n",
        "  # Get the x and y points from data array\n",
        "  points = np.column_stack(data)\n",
        "  x_s = points[0]\n",
        "  y_s = points[1]\n",
        "\n",
        "  plt.xlabel('x', color='black')\n",
        "  plt.ylabel('y', color='black')\n",
        "  plt.grid()\n",
        "\n",
        "  # plot for all points\n",
        "  for point_and_label in zip(x_s, y_s, labels):\n",
        "    if (point_and_label[2] == 0):\n",
        "      plt.scatter(point_and_label[0], point_and_label[1], color='blue') # blue for c = 0\n",
        "    else:\n",
        "      plt.scatter(point_and_label[0], point_and_label[1], color='red') # red for c = 1\n",
        "\n",
        "  # Plots the seperating line\n",
        "  x = np.linspace(0, 1)\n",
        "  y = w * x + b\n",
        "\n",
        "  plt.plot(x, y, color='green')"
      ],
      "execution_count": 0,
      "outputs": []
    },
    {
      "cell_type": "code",
      "metadata": {
        "id": "zeWucQFYcNat",
        "colab_type": "code",
        "outputId": "361e2776-28d4-42e2-c537-a5ddaadb2727",
        "colab": {
          "base_uri": "https://localhost:8080/",
          "height": 279
        }
      },
      "source": [
        "data, labels = get_random_data(50, 10, 20, 10, 100)\n",
        "display_random_data(data, labels, 50, 10)"
      ],
      "execution_count": 435,
      "outputs": [
        {
          "output_type": "display_data",
          "data": {
            "image/png": "[encoded data removed]",
            "text/plain": [
              "<Figure size 432x288 with 1 Axes>"
            ]
          },
          "metadata": {
            "tags": []
          }
        }
      ]
    },
    {
      "cell_type": "markdown",
      "metadata": {
        "id": "bXrpBMPVaoad",
        "colab_type": "text"
      },
      "source": [
        "##Problem 2"
      ]
    },
    {
      "cell_type": "code",
      "metadata": {
        "id": "Q9P641E1iyKN",
        "colab_type": "code",
        "colab": {}
      },
      "source": [
        "import numpy as np\n",
        "import matplotlib.pyplot as plt\n",
        "import tensorflow as tf\n",
        "from sklearn.datasets import make_classification\n",
        "import seaborn as sns\n",
        "from keras import layers\n",
        "import seaborn as sb"
      ],
      "execution_count": 0,
      "outputs": []
    },
    {
      "cell_type": "code",
      "metadata": {
        "id": "pHGQTrr5kQjL",
        "colab_type": "code",
        "colab": {}
      },
      "source": [
        "from sklearn.model_selection import train_test_split\n",
        "\n",
        "X = data\n",
        "y = labels\n",
        "\n",
        "X_train, X_test, y_train, y_test = train_test_split(X, y, test_size = 0.2)\n",
        "X_size, X_temp = X_train.shape\n"
      ],
      "execution_count": 0,
      "outputs": []
    },
    {
      "cell_type": "code",
      "metadata": {
        "id": "f3b2c_oWmPKn",
        "colab_type": "code",
        "colab": {}
      },
      "source": [
        "from keras.models import Sequential\n",
        "from keras.layers import Dense, Activation\n",
        "\n",
        "network = tf.keras.models.Sequential()\n",
        "\n",
        "network.add(tf.keras.layers.Dense(1, activation='sigmoid', input_dim=2))\n",
        "\n",
        "network.compile(optimizer='sgd',\n",
        "                loss='binary_crossentropy',\n",
        "                metrics=['accuracy'])\n",
        "\n",
        "network.fit(X_train, y_train, epochs = 1000, batch_size=10)  "
      ],
      "execution_count": 0,
      "outputs": []
    },
    {
      "cell_type": "code",
      "metadata": {
        "id": "i4_lu9-XxXkm",
        "colab_type": "code",
        "colab": {
          "base_uri": "https://localhost:8080/",
          "height": 296
        },
        "outputId": "03dff299-50dd-443c-a1b8-eeae3b5ae7ed"
      },
      "source": [
        "weights = network.layers[0].get_weights()[0]\n",
        "biases = network.layers[0].get_weights()[1]\n",
        "\n",
        "display_random_data(data, labels, 50, 10)\n",
        "y = (-(biases/weights[1]) / (biases / weights[0])) * x + (-biases / weights[1])\n",
        "\n",
        "\n",
        "p1 = mpatches.Patch(color='green', label='Actual Line')\n",
        "p2 = mpatches.Patch(color='purple', label='Model Line')\n",
        "plt.legend(handles=[p1,p2])\n",
        "plt.fill_between(x, -30,y, color='red',alpha=0.3)\n",
        "plt.fill_between(x, y,100, color='blue',alpha=0.3)\n"
      ],
      "execution_count": 439,
      "outputs": [
        {
          "output_type": "execute_result",
          "data": {
            "text/plain": [
              "<matplotlib.collections.PolyCollection at 0x7fa7b8a33518>"
            ]
          },
          "metadata": {
            "tags": []
          },
          "execution_count": 439
        },
        {
          "output_type": "display_data",
          "data": {
            "image/png": "[encoded data removed]",
            "text/plain": [
              "<Figure size 432x288 with 1 Axes>"
            ]
          },
          "metadata": {
            "tags": []
          }
        }
      ]
    },
    {
      "cell_type": "markdown",
      "metadata": {
        "id": "ggttq4tJaq8W",
        "colab_type": "text"
      },
      "source": [
        "##Problem 3"
      ]
    },
    {
      "cell_type": "code",
      "metadata": {
        "id": "dDWJFTiZ5ZZh",
        "colab_type": "code",
        "colab": {}
      },
      "source": [
        "def sigmoid(z):\n",
        "    return 1 / (1 + np.exp(-z))"
      ],
      "execution_count": 0,
      "outputs": []
    },
    {
      "cell_type": "code",
      "metadata": {
        "id": "busmGDll87iG",
        "colab_type": "code",
        "colab": {}
      },
      "source": [
        "def loss_cross_entropy(y_pred, t):\n",
        "    return -np.mean(t*np.log(y_pred)+(1-t)*np.log(1-y_pred))"
      ],
      "execution_count": 0,
      "outputs": []
    },
    {
      "cell_type": "code",
      "metadata": {
        "id": "8CE5f7pM8-uV",
        "colab_type": "code",
        "colab": {
          "base_uri": "https://localhost:8080/",
          "height": 51
        },
        "outputId": "9cc4dce4-2166-476f-91c4-6c1bc1dc019b"
      },
      "source": [
        "epoch = 1000\n",
        "\n",
        "X = data\n",
        "y = labels\n",
        "\n",
        "X_train, X_test, y_train, y_test = train_test_split(X, y, test_size = 0.2)\n",
        "X_size, X_temp = X_train.shape\n",
        "\n",
        "np.random.seed(0)\n",
        "W = np.random.uniform(0,1,size=(X_train.shape[1],1))\n",
        "b=0.5\n",
        "\n",
        "loss_history = []\n",
        "\n",
        "for i in range(epoch):\n",
        "    Z = np.dot(X_train, W) + b\n",
        "    Y_output = sigmoid(Z)\n",
        "    curr_loss = loss_cross_entropy(Y_output,y_train)\n",
        "    loss_history.append(curr_loss)\n",
        "    grad= Y_output - y_train\n",
        "    grad_weight= np.dot(X_train.T,grad)/X_train.shape[0]\n",
        "    grad_bias = np.average(grad)\n",
        "    W=W-.01*grad_weight\n",
        "    b=b-.01*grad_bias"
      ],
      "execution_count": 445,
      "outputs": [
        {
          "output_type": "stream",
          "text": [
            "/usr/local/lib/python3.6/dist-packages/ipykernel_launcher.py:2: RuntimeWarning: divide by zero encountered in log\n",
            "  \n"
          ],
          "name": "stderr"
        }
      ]
    },
    {
      "cell_type": "code",
      "metadata": {
        "id": "6hl6QtaS9Eku",
        "colab_type": "code",
        "colab": {
          "base_uri": "https://localhost:8080/",
          "height": 279
        },
        "outputId": "c4e1f092-24be-456a-99b6-da01496337a0"
      },
      "source": [
        "import matplotlib.patches as mpatches\n",
        "import matplotlib.pyplot as plt\n",
        "import numpy as np\n",
        "from sklearn.linear_model import LogisticRegression\n",
        "from sklearn.metrics import classification_report, confusion_matrix\n",
        "\n",
        "model = LogisticRegression(solver='liblinear', random_state=0)\n",
        "model.fit(train_data, np.ravel(train_labels))\n",
        "#b\n",
        "intercept = model.intercept_\n",
        "#w1 & w2\n",
        "x = np.linspace(0, 1)\n",
        "b1 = model.coef_\n",
        "w1 = b1[0][0]\n",
        "w2 = b1[0][1]\n",
        "b = intercept\n",
        "m = -(b / w2) / (b / w1)\n",
        "y_intercept = -b / w2\n",
        "\n",
        "y = m*x + y_intercept\n",
        "plt.plot(x, y, 'purple', linewidth = 3)\n",
        "\n",
        "p1 = mpatches.Patch(color='green', label='Actual Line')\n",
        "p2 = mpatches.Patch(color='purple', label='Model Line')\n",
        "plt.legend(handles=[p1,p2])\n",
        "\n",
        "plt.fill_between(x, -30, y, color='red', alpha=0.3)\n",
        "plt.fill_between(x, y, 100, color='blue', alpha=0.3)\n",
        "\n",
        "display_random_data(data, labels, 50, 10)"
      ],
      "execution_count": 446,
      "outputs": [
        {
          "output_type": "display_data",
          "data": {
            "image/png": "[encoded data removed]",
            "text/plain": [
              "<Figure size 432x288 with 1 Axes>"
            ]
          },
          "metadata": {
            "tags": []
          }
        }
      ]
    },
    {
      "cell_type": "markdown",
      "metadata": {
        "id": "KHxqQjObPWH0",
        "colab_type": "text"
      },
      "source": [
        "##Sources\n",
        "\n",
        "\n",
        "*   https://github.com/schneider128k/machine_learning_course/blob/master/slides/logistic_regression.pdf\n",
        "*   https://medium.com/@martinpella/logistic-regression-from-scratch-in-python-124c5636b8ac\n",
        "*   https://kraj3.com.np/blog/2019/08/logistic-regression-algorithm-from-scratch-in-pythonusing-numpy-only/\n",
        "*   https://blog.goodaudience.com/logistic-regression-from-scratch-in-numpy-5841c09e425f\n",
        "*   https://pythonprogramming.net/colors-fills-matplotlib-tutorial/\n",
        "*   https://mc.ai/simple-binary-classification-with-keras/\n",
        "*   https://blog.goodaudience.com/logistic-regression-from-scratch-in-numpy-5841c09e425f\n",
        "*   https://aigeekprogrammer.com/binary-classification-using-logistic-regression-and-keras/\n",
        "\n"
      ]
    }
  ]
}